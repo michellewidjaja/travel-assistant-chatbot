{
 "cells": [
  {
   "cell_type": "code",
   "execution_count": 3,
   "metadata": {},
   "outputs": [
    {
     "name": "stdout",
     "output_type": "stream",
     "text": [
      "Defaulting to user installation because normal site-packages is not writeable\n",
      "Requirement already satisfied: gradio in /Users/michelle.widjaja/Library/Python/3.9/lib/python/site-packages (4.44.1)\n",
      "Requirement already satisfied: requests in /Users/michelle.widjaja/Library/Python/3.9/lib/python/site-packages (2.32.3)\n",
      "Requirement already satisfied: huggingface-hub>=0.19.3 in /Users/michelle.widjaja/Library/Python/3.9/lib/python/site-packages (from gradio) (0.25.1)\n",
      "Requirement already satisfied: markupsafe~=2.0 in /Users/michelle.widjaja/Library/Python/3.9/lib/python/site-packages (from gradio) (2.1.5)\n",
      "Requirement already satisfied: tomlkit==0.12.0 in /Users/michelle.widjaja/Library/Python/3.9/lib/python/site-packages (from gradio) (0.12.0)\n",
      "Requirement already satisfied: httpx>=0.24.1 in /Users/michelle.widjaja/Library/Python/3.9/lib/python/site-packages (from gradio) (0.27.0)\n",
      "Requirement already satisfied: semantic-version~=2.0 in /Users/michelle.widjaja/Library/Python/3.9/lib/python/site-packages (from gradio) (2.10.0)\n",
      "Requirement already satisfied: matplotlib~=3.0 in /Users/michelle.widjaja/Library/Python/3.9/lib/python/site-packages (from gradio) (3.9.2)\n",
      "Requirement already satisfied: urllib3~=2.0 in /Users/michelle.widjaja/Library/Python/3.9/lib/python/site-packages (from gradio) (2.2.3)\n",
      "Requirement already satisfied: python-multipart>=0.0.9 in /Users/michelle.widjaja/Library/Python/3.9/lib/python/site-packages (from gradio) (0.0.12)\n",
      "Requirement already satisfied: numpy<3.0,>=1.0 in /Users/michelle.widjaja/Library/Python/3.9/lib/python/site-packages (from gradio) (1.26.4)\n",
      "Requirement already satisfied: ruff>=0.2.2 in /Users/michelle.widjaja/Library/Python/3.9/lib/python/site-packages (from gradio) (0.6.9)\n",
      "Requirement already satisfied: pyyaml<7.0,>=5.0 in /Users/michelle.widjaja/Library/Python/3.9/lib/python/site-packages (from gradio) (6.0.1)\n",
      "Requirement already satisfied: orjson~=3.0 in /Users/michelle.widjaja/Library/Python/3.9/lib/python/site-packages (from gradio) (3.10.7)\n",
      "Requirement already satisfied: pandas<3.0,>=1.0 in /Users/michelle.widjaja/Library/Python/3.9/lib/python/site-packages (from gradio) (2.2.2)\n",
      "Requirement already satisfied: gradio-client==1.3.0 in /Users/michelle.widjaja/Library/Python/3.9/lib/python/site-packages (from gradio) (1.3.0)\n",
      "Requirement already satisfied: fastapi<1.0 in /Users/michelle.widjaja/Library/Python/3.9/lib/python/site-packages (from gradio) (0.115.0)\n",
      "Requirement already satisfied: pydub in /Users/michelle.widjaja/Library/Python/3.9/lib/python/site-packages (from gradio) (0.25.1)\n",
      "Requirement already satisfied: pillow<11.0,>=8.0 in /Users/michelle.widjaja/Library/Python/3.9/lib/python/site-packages (from gradio) (10.4.0)\n",
      "Requirement already satisfied: ffmpy in /Users/michelle.widjaja/Library/Python/3.9/lib/python/site-packages (from gradio) (0.4.0)\n",
      "Requirement already satisfied: typing-extensions~=4.0 in /Users/michelle.widjaja/Library/Python/3.9/lib/python/site-packages (from gradio) (4.12.2)\n",
      "Requirement already satisfied: jinja2<4.0 in /Users/michelle.widjaja/Library/Python/3.9/lib/python/site-packages (from gradio) (3.1.4)\n",
      "Requirement already satisfied: uvicorn>=0.14.0 in /Users/michelle.widjaja/Library/Python/3.9/lib/python/site-packages (from gradio) (0.31.0)\n",
      "Requirement already satisfied: pydantic>=2.0 in /Users/michelle.widjaja/Library/Python/3.9/lib/python/site-packages (from gradio) (2.9.2)\n",
      "Requirement already satisfied: typer<1.0,>=0.12 in /Users/michelle.widjaja/Library/Python/3.9/lib/python/site-packages (from gradio) (0.12.5)\n",
      "Requirement already satisfied: anyio<5.0,>=3.0 in /Users/michelle.widjaja/Library/Python/3.9/lib/python/site-packages (from gradio) (4.4.0)\n",
      "Requirement already satisfied: packaging in /Users/michelle.widjaja/Library/Python/3.9/lib/python/site-packages (from gradio) (24.1)\n",
      "Requirement already satisfied: aiofiles<24.0,>=22.0 in /Users/michelle.widjaja/Library/Python/3.9/lib/python/site-packages (from gradio) (23.2.1)\n",
      "Requirement already satisfied: importlib-resources<7.0,>=1.3 in /Users/michelle.widjaja/Library/Python/3.9/lib/python/site-packages (from gradio) (6.4.5)\n",
      "Requirement already satisfied: websockets<13.0,>=10.0 in /Users/michelle.widjaja/Library/Python/3.9/lib/python/site-packages (from gradio-client==1.3.0->gradio) (12.0)\n",
      "Requirement already satisfied: fsspec in /Users/michelle.widjaja/Library/Python/3.9/lib/python/site-packages (from gradio-client==1.3.0->gradio) (2024.9.0)\n",
      "Requirement already satisfied: certifi>=2017.4.17 in /Users/michelle.widjaja/Library/Python/3.9/lib/python/site-packages (from requests) (2024.8.30)\n",
      "Requirement already satisfied: idna<4,>=2.5 in /Users/michelle.widjaja/Library/Python/3.9/lib/python/site-packages (from requests) (3.7)\n",
      "Requirement already satisfied: charset-normalizer<4,>=2 in /Users/michelle.widjaja/Library/Python/3.9/lib/python/site-packages (from requests) (3.3.2)\n",
      "Requirement already satisfied: exceptiongroup>=1.0.2 in /Users/michelle.widjaja/Library/Python/3.9/lib/python/site-packages (from anyio<5.0,>=3.0->gradio) (1.2.2)\n",
      "Requirement already satisfied: sniffio>=1.1 in /Users/michelle.widjaja/Library/Python/3.9/lib/python/site-packages (from anyio<5.0,>=3.0->gradio) (1.3.1)\n",
      "Requirement already satisfied: starlette<0.39.0,>=0.37.2 in /Users/michelle.widjaja/Library/Python/3.9/lib/python/site-packages (from fastapi<1.0->gradio) (0.38.6)\n",
      "Requirement already satisfied: httpcore==1.* in /Users/michelle.widjaja/Library/Python/3.9/lib/python/site-packages (from httpx>=0.24.1->gradio) (1.0.5)\n",
      "Requirement already satisfied: h11<0.15,>=0.13 in /Users/michelle.widjaja/Library/Python/3.9/lib/python/site-packages (from httpcore==1.*->httpx>=0.24.1->gradio) (0.14.0)\n",
      "Requirement already satisfied: tqdm>=4.42.1 in /Users/michelle.widjaja/Library/Python/3.9/lib/python/site-packages (from huggingface-hub>=0.19.3->gradio) (4.66.5)\n",
      "Requirement already satisfied: filelock in /Users/michelle.widjaja/Library/Python/3.9/lib/python/site-packages (from huggingface-hub>=0.19.3->gradio) (3.16.1)\n",
      "Requirement already satisfied: zipp>=3.1.0 in /Users/michelle.widjaja/Library/Python/3.9/lib/python/site-packages (from importlib-resources<7.0,>=1.3->gradio) (3.19.2)\n",
      "Requirement already satisfied: contourpy>=1.0.1 in /Users/michelle.widjaja/Library/Python/3.9/lib/python/site-packages (from matplotlib~=3.0->gradio) (1.3.0)\n",
      "Requirement already satisfied: kiwisolver>=1.3.1 in /Users/michelle.widjaja/Library/Python/3.9/lib/python/site-packages (from matplotlib~=3.0->gradio) (1.4.7)\n",
      "Requirement already satisfied: pyparsing>=2.3.1 in /Users/michelle.widjaja/Library/Python/3.9/lib/python/site-packages (from matplotlib~=3.0->gradio) (3.1.4)\n",
      "Requirement already satisfied: python-dateutil>=2.7 in /Users/michelle.widjaja/Library/Python/3.9/lib/python/site-packages (from matplotlib~=3.0->gradio) (2.9.0.post0)\n",
      "Requirement already satisfied: fonttools>=4.22.0 in /Users/michelle.widjaja/Library/Python/3.9/lib/python/site-packages (from matplotlib~=3.0->gradio) (4.54.1)\n",
      "Requirement already satisfied: cycler>=0.10 in /Users/michelle.widjaja/Library/Python/3.9/lib/python/site-packages (from matplotlib~=3.0->gradio) (0.12.1)\n",
      "Requirement already satisfied: pytz>=2020.1 in /Users/michelle.widjaja/Library/Python/3.9/lib/python/site-packages (from pandas<3.0,>=1.0->gradio) (2024.2)\n",
      "Requirement already satisfied: tzdata>=2022.7 in /Users/michelle.widjaja/Library/Python/3.9/lib/python/site-packages (from pandas<3.0,>=1.0->gradio) (2024.1)\n",
      "Requirement already satisfied: pydantic-core==2.23.4 in /Users/michelle.widjaja/Library/Python/3.9/lib/python/site-packages (from pydantic>=2.0->gradio) (2.23.4)\n",
      "Requirement already satisfied: annotated-types>=0.6.0 in /Users/michelle.widjaja/Library/Python/3.9/lib/python/site-packages (from pydantic>=2.0->gradio) (0.7.0)\n",
      "Requirement already satisfied: six>=1.5 in /Users/michelle.widjaja/Library/Python/3.9/lib/python/site-packages (from python-dateutil>=2.7->matplotlib~=3.0->gradio) (1.16.0)\n",
      "Requirement already satisfied: shellingham>=1.3.0 in /Users/michelle.widjaja/Library/Python/3.9/lib/python/site-packages (from typer<1.0,>=0.12->gradio) (1.5.4)\n",
      "Requirement already satisfied: rich>=10.11.0 in /Users/michelle.widjaja/Library/Python/3.9/lib/python/site-packages (from typer<1.0,>=0.12->gradio) (13.9.2)\n",
      "Requirement already satisfied: click>=8.0.0 in /Users/michelle.widjaja/Library/Python/3.9/lib/python/site-packages (from typer<1.0,>=0.12->gradio) (8.1.7)\n",
      "Requirement already satisfied: markdown-it-py>=2.2.0 in /Users/michelle.widjaja/Library/Python/3.9/lib/python/site-packages (from rich>=10.11.0->typer<1.0,>=0.12->gradio) (3.0.0)\n",
      "Requirement already satisfied: pygments<3.0.0,>=2.13.0 in /Users/michelle.widjaja/Library/Python/3.9/lib/python/site-packages (from rich>=10.11.0->typer<1.0,>=0.12->gradio) (2.18.0)\n",
      "Requirement already satisfied: mdurl~=0.1 in /Users/michelle.widjaja/Library/Python/3.9/lib/python/site-packages (from markdown-it-py>=2.2.0->rich>=10.11.0->typer<1.0,>=0.12->gradio) (0.1.2)\n",
      "\u001b[33mWARNING: You are using pip version 21.2.4; however, version 24.2 is available.\n",
      "You should consider upgrading via the '/Library/Developer/CommandLineTools/usr/bin/python3 -m pip install --upgrade pip' command.\u001b[0m\n",
      "Note: you may need to restart the kernel to use updated packages.\n"
     ]
    }
   ],
   "source": [
    "%pip install gradio requests"
   ]
  },
  {
   "cell_type": "code",
   "execution_count": 2,
   "metadata": {},
   "outputs": [],
   "source": [
    "amadeus_api_key = 'ynjYWaJMJPpyeq6DPZUTot4YbgxQWkXW'\n",
    "amadeus_api_secret = 'Ke7qDDDuuLLB8AA5'"
   ]
  },
  {
   "cell_type": "code",
   "execution_count": 3,
   "metadata": {},
   "outputs": [
    {
     "name": "stdout",
     "output_type": "stream",
     "text": [
      "Access Token: cqGtOLBQwVYbnIJuAr3ALI2b4RvG\n"
     ]
    }
   ],
   "source": [
    "import requests\n",
    "\n",
    "# Replace these with your actual Amadeus API credentials\n",
    "amadeus_api_key = amadeus_api_key\n",
    "amadeus_api_secret = amadeus_api_secret\n",
    "\n",
    "def get_access_token():\n",
    "    url = \"https://test.api.amadeus.com/v1/security/oauth2/token\"\n",
    "    \n",
    "    headers = {\n",
    "        \"Content-Type\": \"application/x-www-form-urlencoded\"\n",
    "    }\n",
    "    \n",
    "    data = {\n",
    "        \"grant_type\": \"client_credentials\",\n",
    "        \"client_id\": amadeus_api_key,\n",
    "        \"client_secret\": amadeus_api_secret\n",
    "    }\n",
    "    \n",
    "    response = requests.post(url, headers=headers, data=data)\n",
    "    \n",
    "    if response.status_code == 200:\n",
    "        return response.json()[\"access_token\"]\n",
    "    else:\n",
    "        raise Exception(f\"Failed to get access token: {response.status_code} - {response.text}\")\n",
    "\n",
    "try:\n",
    "    access_token = get_access_token()\n",
    "    print(\"Access Token:\", access_token)\n",
    "except Exception as e:\n",
    "    print(e)\n"
   ]
  },
  {
   "cell_type": "code",
   "execution_count": 16,
   "metadata": {},
   "outputs": [
    {
     "name": "stdout",
     "output_type": "stream",
     "text": [
      "Running on local URL:  http://127.0.0.1:7867\n",
      "\n",
      "To create a public link, set `share=True` in `launch()`.\n"
     ]
    },
    {
     "data": {
      "text/html": [
       "<div><iframe src=\"http://127.0.0.1:7867/\" width=\"100%\" height=\"500\" allow=\"autoplay; camera; microphone; clipboard-read; clipboard-write;\" frameborder=\"0\" allowfullscreen></iframe></div>"
      ],
      "text/plain": [
       "<IPython.core.display.HTML object>"
      ]
     },
     "metadata": {},
     "output_type": "display_data"
    },
    {
     "data": {
      "text/plain": []
     },
     "execution_count": 16,
     "metadata": {},
     "output_type": "execute_result"
    }
   ],
   "source": [
    "import gradio as gr\n",
    "import requests\n",
    "import re\n",
    "\n",
    "amadeus_api_key = amadeus_api_key\n",
    "amadeus_api_secret = amadeus_api_secret\n",
    "\n",
    "def get_access_token():\n",
    "    url = \"https://test.api.amadeus.com/v1/security/oauth2/token\"\n",
    "    \n",
    "    headers = {\n",
    "        \"Content-Type\": \"application/x-www-form-urlencoded\"\n",
    "    }\n",
    "    \n",
    "    data = {\n",
    "        \"grant_type\": \"client_credentials\",\n",
    "        \"client_id\": amadeus_api_key,\n",
    "        \"client_secret\": amadeus_api_secret\n",
    "    }\n",
    "    \n",
    "    response = requests.post(url, headers=headers, data=data)\n",
    "    \n",
    "    if response.status_code == 200:\n",
    "        return response.json()[\"access_token\"]\n",
    "    else:\n",
    "        raise Exception(f\"Failed to get access token: {response.status_code} - {response.text}\")\n",
    "\n",
    "def extract_info(query):\n",
    "    today_pattern = r\"today\"\n",
    "    date_pattern = r\"(\\d{2}-\\d{2}-\\d{4})\"\n",
    "\n",
    "    origin = \"JKT\"  # Default origin can be Jakarta\n",
    "    destination = \"NRT\"  # Default destination can be Japan (Narita)\n",
    "\n",
    "    if re.search(today_pattern, query, re.IGNORECASE):\n",
    "        departure_date = \"2024-10-09\"  # Replace with actual date logic\n",
    "    else:\n",
    "        date_match = re.search(date_pattern, query)\n",
    "        departure_date = date_match.group(1) if date_match else None\n",
    "\n",
    "    return origin, destination, departure_date\n",
    "\n",
    "def search_cheapest_flight(origin, destination, departure_date):\n",
    "    access_token = get_access_token()  # Get a valid access token\n",
    "    url = \"https://test.api.amadeus.com/v2/shopping/flight-offers\"\n",
    "    \n",
    "    headers = {\n",
    "        \"Authorization\": f\"Bearer {access_token}\"\n",
    "    }\n",
    "    \n",
    "    params = {\n",
    "        \"originLocationCode\": origin,\n",
    "        \"destinationLocationCode\": destination,\n",
    "        \"departureDate\": departure_date,\n",
    "        \"adults\": 1,\n",
    "        \"maxPrice\": 10000\n",
    "    }\n",
    "\n",
    "    response = requests.get(url, headers=headers, params=params)\n",
    "    \n",
    "    if response.status_code == 200:\n",
    "        return response.json()  # Valid JSON response\n",
    "    else:\n",
    "        return {\"error\": f\"Error: {response.status_code} - {response.json()}\"}\n",
    "\n",
    "def chatbot_interface(query):\n",
    "    origin, destination, departure_date = extract_info(query)\n",
    "    if departure_date is None:\n",
    "        return {\"error\": \"Please provide a valid departure date or ask for today's flights.\"}\n",
    "    return search_cheapest_flight(origin, destination, departure_date)\n",
    "\n",
    "iface = gr.Interface(fn=chatbot_interface,\n",
    "                     inputs=\"text\",  # Single text input\n",
    "                     outputs=\"json\",\n",
    "                     title=\"Travel Assistant Chatbot\",\n",
    "                     description=\"Find the cheapest flight tickets by asking questions.\")\n",
    "\n",
    "iface.launch()\n"
   ]
  }
 ],
 "metadata": {
  "kernelspec": {
   "display_name": "Python 3",
   "language": "python",
   "name": "python3"
  },
  "language_info": {
   "codemirror_mode": {
    "name": "ipython",
    "version": 3
   },
   "file_extension": ".py",
   "mimetype": "text/x-python",
   "name": "python",
   "nbconvert_exporter": "python",
   "pygments_lexer": "ipython3",
   "version": "3.9.6"
  }
 },
 "nbformat": 4,
 "nbformat_minor": 2
}
